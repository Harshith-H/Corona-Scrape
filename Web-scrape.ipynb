{
 "cells": [
  {
   "cell_type": "markdown",
   "metadata": {},
   "source": [
    "## Web scraping data about CoronaVirus cases"
   ]
  },
  {
   "cell_type": "markdown",
   "metadata": {},
   "source": [
    "### Import required libraries"
   ]
  },
  {
   "cell_type": "code",
   "execution_count": 1,
   "metadata": {},
   "outputs": [],
   "source": [
    "from bs4 import BeautifulSoup\n",
    "import requests\n",
    "import lxml.html as lh\n",
    "import pandas as pd\n",
    "from time import sleep\n",
    "from selenium import webdriver"
   ]
  },
  {
   "cell_type": "markdown",
   "metadata": {},
   "source": [
    "### Getting the page"
   ]
  },
  {
   "cell_type": "code",
   "execution_count": 5,
   "metadata": {},
   "outputs": [
    {
     "name": "stdout",
     "output_type": "stream",
     "text": [
      "Coronavirus Update (Live)\n"
     ]
    }
   ],
   "source": [
    "url='https://www.worldometers.info/coronavirus/'\n",
    "page=requests.get(url).content\n",
    "soup=BeautifulSoup(page,'html.parser')\n",
    "title=soup.title.text\n",
    "# print(title)\n",
    "print(title[:25])"
   ]
  },
  {
   "cell_type": "markdown",
   "metadata": {},
   "source": [
    "### Taking the total number of cases from the page"
   ]
  },
  {
   "cell_type": "code",
   "execution_count": 6,
   "metadata": {},
   "outputs": [
    {
     "name": "stdout",
     "output_type": "stream",
     "text": [
      "Total active Cases = 1,062,464\n",
      "Total closed Cases = 393,491\n"
     ]
    }
   ],
   "source": [
    "ls=soup.find_all('div',class_='col-md-6',limit=2)\n",
    "totActive=ls[0].find('div',class_='number-table-main').text\n",
    "totClosed=ls[1].find('div',class_='number-table-main').text\n",
    "print(\"Total active Cases = \"+totActive+\"\\nTotal closed Cases = \"+totClosed)"
   ]
  },
  {
   "cell_type": "markdown",
   "metadata": {},
   "source": [
    "### Webscraping table into df "
   ]
  },
  {
   "cell_type": "code",
   "execution_count": 7,
   "metadata": {},
   "outputs": [
    {
     "name": "stdout",
     "output_type": "stream",
     "text": [
      "(427, 5)\n",
      "\n",
      "  Country,Other TotalCases TotalDeaths ActiveCases Serious,Critical\n",
      "0         World  1,455,955      83,666   1,062,464           48,074\n",
      "1           USA    404,156     12,988      369,353            9,220\n",
      "2         Spain    146,690     14,555       84,114            7,069\n",
      "3         Italy    135,586     17,127       94,067            3,792\n",
      "4       Germany    109,329      2,096       71,152            4,895\n"
     ]
    }
   ],
   "source": [
    "#Store the contents of the website under doc\n",
    "doc = lh.fromstring(page)\n",
    "#Parse data that are stored between <tr>..</tr> of HTML\n",
    "tr_elements = doc.xpath('//tr')\n",
    "#Check the length of the first 12 rows\n",
    "\n",
    "tr_elements = doc.xpath('//tr')\n",
    "#Create empty list\n",
    "col=[]\n",
    "i=0\n",
    "#For each row, store each first element (header) and an empty list\n",
    "for t in tr_elements[0]:\n",
    "    i+=1\n",
    "    name=t.text_content()\n",
    "    # print ('%d:\"%s\"'%(i,name))\n",
    "    col.append((name,[]))\n",
    "# print(col)\n",
    "#Since out first row is the header, data is stored on the second row onwards\n",
    "for j in range(1,len(tr_elements)):     \n",
    "\n",
    "    #T is our j'th row\n",
    "    T=tr_elements[j]\n",
    "    \n",
    "    #If row is not of size 12, the //tr data is not from our table \n",
    "    if len(T)!=12:\n",
    "        break\n",
    "    \n",
    "    #i is the index of our column\n",
    "    i=0\n",
    "    \n",
    "    #Iterate through each element of the row\n",
    "    for t in T.iterchildren():\n",
    "        data=t.text_content() \n",
    "        #Check if row is empty\n",
    "        if i>0:\n",
    "        #Convert any numerical value to integers\n",
    "            try:\n",
    "                data=int(data)\n",
    "            except:\n",
    "                pass\n",
    "        #Append the data to the empty list of the i'th column\n",
    "        col[i][1].append(data)\n",
    "        #Increment i for the next column\n",
    "        i+=1\n",
    "\n",
    "Dict={title:column for (title,column) in col}\n",
    "# df=pd.DataFrame(Dict)\n",
    "df1=pd.DataFrame(Dict)\n",
    "\n",
    "# print(\"Dim of df = \" ,end='')\n",
    "df1=df1.iloc[:,[0,1,3,6,7]]\n",
    "# print()\n",
    "print(df1.shape)\n",
    "print()\n",
    "print(df1.head(5))"
   ]
  },
  {
   "cell_type": "markdown",
   "metadata": {},
   "source": [
    "### Cleaning numeric data "
   ]
  },
  {
   "cell_type": "code",
   "execution_count": 8,
   "metadata": {},
   "outputs": [],
   "source": [
    "cols=[]\n",
    "for i in range(df1.shape[0]):\n",
    "    cols.append(i)\n",
    "df1.iloc[0:300,:] = df1.iloc[0:300,:].replace({',': ''}, regex=True)\n",
    "df2=df1[0:201]\n",
    "df2=df2.astype({'TotalCases': 'int64'})"
   ]
  },
  {
   "cell_type": "markdown",
   "metadata": {},
   "source": [
    "### Sort the values wrt to the Total Cases"
   ]
  },
  {
   "cell_type": "code",
   "execution_count": 9,
   "metadata": {},
   "outputs": [
    {
     "data": {
      "text/html": [
       "<div>\n",
       "<style scoped>\n",
       "    .dataframe tbody tr th:only-of-type {\n",
       "        vertical-align: middle;\n",
       "    }\n",
       "\n",
       "    .dataframe tbody tr th {\n",
       "        vertical-align: top;\n",
       "    }\n",
       "\n",
       "    .dataframe thead th {\n",
       "        text-align: right;\n",
       "    }\n",
       "</style>\n",
       "<table border=\"1\" class=\"dataframe\">\n",
       "  <thead>\n",
       "    <tr style=\"text-align: right;\">\n",
       "      <th></th>\n",
       "      <th>Country,Other</th>\n",
       "      <th>TotalCases</th>\n",
       "      <th>TotalDeaths</th>\n",
       "      <th>ActiveCases</th>\n",
       "      <th>Serious,Critical</th>\n",
       "    </tr>\n",
       "  </thead>\n",
       "  <tbody>\n",
       "    <tr>\n",
       "      <th>0</th>\n",
       "      <td>World</td>\n",
       "      <td>1455955</td>\n",
       "      <td>83666</td>\n",
       "      <td>1062464</td>\n",
       "      <td>48074</td>\n",
       "    </tr>\n",
       "    <tr>\n",
       "      <th>1</th>\n",
       "      <td>USA</td>\n",
       "      <td>404156</td>\n",
       "      <td>12988</td>\n",
       "      <td>369353</td>\n",
       "      <td>9220</td>\n",
       "    </tr>\n",
       "    <tr>\n",
       "      <th>2</th>\n",
       "      <td>Spain</td>\n",
       "      <td>146690</td>\n",
       "      <td>14555</td>\n",
       "      <td>84114</td>\n",
       "      <td>7069</td>\n",
       "    </tr>\n",
       "    <tr>\n",
       "      <th>3</th>\n",
       "      <td>Italy</td>\n",
       "      <td>135586</td>\n",
       "      <td>17127</td>\n",
       "      <td>94067</td>\n",
       "      <td>3792</td>\n",
       "    </tr>\n",
       "    <tr>\n",
       "      <th>4</th>\n",
       "      <td>Germany</td>\n",
       "      <td>109329</td>\n",
       "      <td>2096</td>\n",
       "      <td>71152</td>\n",
       "      <td>4895</td>\n",
       "    </tr>\n",
       "  </tbody>\n",
       "</table>\n",
       "</div>"
      ],
      "text/plain": [
       "  Country,Other  TotalCases TotalDeaths ActiveCases Serious,Critical\n",
       "0         World     1455955       83666     1062464            48074\n",
       "1           USA      404156      12988       369353             9220\n",
       "2         Spain      146690      14555        84114             7069\n",
       "3         Italy      135586      17127        94067             3792\n",
       "4       Germany      109329       2096        71152             4895"
      ]
     },
     "execution_count": 9,
     "metadata": {},
     "output_type": "execute_result"
    }
   ],
   "source": [
    "sortedDF=df2.sort_values('TotalCases', ascending=False)\n",
    "sortedDF.head()"
   ]
  },
  {
   "cell_type": "markdown",
   "metadata": {},
   "source": [
    "### Format the message to be sent"
   ]
  },
  {
   "cell_type": "code",
   "execution_count": 33,
   "metadata": {},
   "outputs": [
    {
     "name": "stdout",
     "output_type": "stream",
     "text": [
      "COVID-19 CORONAVIRUS PANDEMIC UPDATE\n",
      "Source: https://www.worldometers.info/coronavirus/\n",
      " \n",
      "Total Active Cases= 1,062,464\n",
      " \n",
      "Total Closed Cases= 393,491\n",
      " \n",
      " \n",
      "Country Wise: Top 5\n",
      "------------------------\n",
      "Country: World\n",
      "Total cases : 1455955\n",
      "Total deaths: 83666\n",
      "Active cases: 1062464\n",
      "Critical cases: 48074\n",
      "--------------------\n"
     ]
    }
   ],
   "source": [
    "msg=\"COVID-19 CORONAVIRUS PANDEMIC UPDATE\"\n",
    "\n",
    "msg=msg +\"\\nSource: https://www.worldometers.info/coronavirus/\"\n",
    "msg=msg +\"\\n \\nTotal Active Cases= \" + str(totActive)\n",
    "\n",
    "msg=msg +\"\\n \\nTotal Closed Cases= \" + str(totClosed)\n",
    "\n",
    "msg=msg +\"\\n \\n \\nCountry Wise: Top 5\" \n",
    "\n",
    "msg+=\"\\n------------------------\"\n",
    "\n",
    "for i in range(5):\n",
    "    msg=msg + \"\\nCountry: \"\n",
    "    msg=msg + str(sortedDF.iloc[i,0])\n",
    "    msg=msg +\"\\n\"\n",
    "    msg=msg + \"Total cases : \"\n",
    "    msg=msg + str(sortedDF.iloc[i,1])\n",
    "    msg=msg +\"\\n\"\n",
    "    msg=msg + \"Total deaths: \"\n",
    "    msg=msg + str(sortedDF.iloc[i,2])\n",
    "    msg=msg +\"\\n\"\n",
    "    msg=msg + \"Active cases: \"\n",
    "    msg=msg + str(sortedDF.iloc[i,3])\n",
    "    msg=msg +\"\\n\"\n",
    "    msg=msg + \"Critical cases: \"\n",
    "    msg=msg + str(sortedDF.iloc[i,4])\n",
    "    msg+=\"\\n------------------------\"\n",
    "    \n",
    "\n",
    "print(msg[:320])"
   ]
  },
  {
   "cell_type": "code",
   "execution_count": 37,
   "metadata": {},
   "outputs": [
    {
     "name": "stdout",
     "output_type": "stream",
     "text": [
      "Enter after Scanning QR\n",
      "------Message SENT------\n"
     ]
    }
   ],
   "source": [
    "###### Code to send \"msg\" in Whatsapp using Selenium WebDriver ########\n",
    "\n",
    "driver= webdriver.Chrome()\n",
    "url='https://web.whatsapp.com/'\n",
    "driver.get(url)\n",
    "\n",
    "input('Enter after Scanning QR')\n",
    "name='Saved'\n",
    "user = driver.find_element_by_xpath('//span[@title = \"{}\"]'.format(name))\n",
    "user.click()\n",
    "msg_box= driver.find_element_by_class_name('_1Plpp')\n",
    "msg_box.send_keys(msg)\n",
    "button = driver.find_element_by_class_name('_35EW6')\n",
    "button.click()\n",
    "\n",
    "print(\"------Message SENT------\")"
   ]
  },
  {
   "cell_type": "code",
   "execution_count": null,
   "metadata": {},
   "outputs": [],
   "source": []
  }
 ],
 "metadata": {
  "kernelspec": {
   "display_name": "Python 3",
   "language": "python",
   "name": "python3"
  },
  "language_info": {
   "codemirror_mode": {
    "name": "ipython",
    "version": 3
   },
   "file_extension": ".py",
   "mimetype": "text/x-python",
   "name": "python",
   "nbconvert_exporter": "python",
   "pygments_lexer": "ipython3",
   "version": "3.7.0"
  }
 },
 "nbformat": 4,
 "nbformat_minor": 2
}
